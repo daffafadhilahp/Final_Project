{
 "cells": [
  {
   "cell_type": "code",
   "execution_count": 2,
   "id": "73e0d9a5",
   "metadata": {},
   "outputs": [],
   "source": [
    "import pandas as pd\n",
    "import tensorflow as tf\n",
    "from transformers import BertTokenizer, TFBertForSequenceClassification"
   ]
  },
  {
   "cell_type": "code",
   "execution_count": 18,
   "id": "16b7da76",
   "metadata": {},
   "outputs": [
    {
     "data": {
      "text/html": [
       "<div>\n",
       "<style scoped>\n",
       "    .dataframe tbody tr th:only-of-type {\n",
       "        vertical-align: middle;\n",
       "    }\n",
       "\n",
       "    .dataframe tbody tr th {\n",
       "        vertical-align: top;\n",
       "    }\n",
       "\n",
       "    .dataframe thead th {\n",
       "        text-align: right;\n",
       "    }\n",
       "</style>\n",
       "<table border=\"1\" class=\"dataframe\">\n",
       "  <thead>\n",
       "    <tr style=\"text-align: right;\">\n",
       "      <th></th>\n",
       "      <th>Pilpres 2024</th>\n",
       "      <th>Type</th>\n",
       "      <th>Mentions</th>\n",
       "      <th>Date</th>\n",
       "      <th>Media</th>\n",
       "      <th>Sentiment</th>\n",
       "      <th>Author</th>\n",
       "      <th>Followers</th>\n",
       "      <th>Retweeted</th>\n",
       "      <th>Favourited</th>\n",
       "      <th>Mentions1</th>\n",
       "      <th>stemming</th>\n",
       "    </tr>\n",
       "  </thead>\n",
       "  <tbody>\n",
       "    <tr>\n",
       "      <th>0</th>\n",
       "      <td>36600</td>\n",
       "      <td>rt</td>\n",
       "      <td>RT @bachrum_achmadi: Sblm Ganjar resmi capres ...</td>\n",
       "      <td>27/05/2023 13:16</td>\n",
       "      <td>Twitter</td>\n",
       "      <td>Positive</td>\n",
       "      <td>@krisnugrohoadi (iBoBig)</td>\n",
       "      <td>94.0</td>\n",
       "      <td>39.0</td>\n",
       "      <td>0.0</td>\n",
       "      <td>sblm ganjar resmi capres pdip bawaslu bkn main...</td>\n",
       "      <td>sblm ganjar resmi capres pdip bawaslu bkn main...</td>\n",
       "    </tr>\n",
       "    <tr>\n",
       "      <th>1</th>\n",
       "      <td>63886</td>\n",
       "      <td>rt</td>\n",
       "      <td>RT @P3n99u94t: ANIES BASWEDAN CAPRES TERLENGKA...</td>\n",
       "      <td>23/05/2023 16:47</td>\n",
       "      <td>Twitter</td>\n",
       "      <td>Neutral</td>\n",
       "      <td>@DezzarZo4 (DeZZarZo4 ÃÂÃÂÃÂÃÂ°ÃÂÃÂ...</td>\n",
       "      <td>1057.0</td>\n",
       "      <td>24.0</td>\n",
       "      <td>0.0</td>\n",
       "      <td>anies baswedan capres terlengkap</td>\n",
       "      <td>anies baswedan capres lengkap</td>\n",
       "    </tr>\n",
       "    <tr>\n",
       "      <th>2</th>\n",
       "      <td>40994</td>\n",
       "      <td>rt</td>\n",
       "      <td>RT @Anak__Ogi: Buat @Pak_JK pendukung capres N...</td>\n",
       "      <td>27/05/2023 05:32</td>\n",
       "      <td>Twitter</td>\n",
       "      <td>Positive</td>\n",
       "      <td>@Toms32B (Toms 32b)</td>\n",
       "      <td>42.0</td>\n",
       "      <td>218.0</td>\n",
       "      <td>0.0</td>\n",
       "      <td>buat pendukung capres nasdem demokrat dan pks</td>\n",
       "      <td>buat dukung capres nasdem demokrat dan pks</td>\n",
       "    </tr>\n",
       "    <tr>\n",
       "      <th>3</th>\n",
       "      <td>63245</td>\n",
       "      <td>rt</td>\n",
       "      <td>RT @Chaves1305: Capres @prabowo emang sangat k...</td>\n",
       "      <td>23/05/2023 17:35</td>\n",
       "      <td>Twitter</td>\n",
       "      <td>Positive</td>\n",
       "      <td>@Chaves1305 (Chaves)</td>\n",
       "      <td>340.0</td>\n",
       "      <td>1.0</td>\n",
       "      <td>0.0</td>\n",
       "      <td>capres emang sangat konsisten utk indonesia</td>\n",
       "      <td>capres emang sangat konsisten utk indonesia</td>\n",
       "    </tr>\n",
       "    <tr>\n",
       "      <th>4</th>\n",
       "      <td>64087</td>\n",
       "      <td>mention</td>\n",
       "      <td>Para Kiai Besar Dukung Prabowo-Gus Muhaimin di...</td>\n",
       "      <td>23/05/2023 14:31</td>\n",
       "      <td>Twitter</td>\n",
       "      <td>Positive</td>\n",
       "      <td>@gadotaja (hanyamanusia)</td>\n",
       "      <td>110.0</td>\n",
       "      <td>0.0</td>\n",
       "      <td>0.0</td>\n",
       "      <td>para kiai besar dukung prabowogus muhaimin di ...</td>\n",
       "      <td>para kiai besar dukung prabowogus muhaimin di ...</td>\n",
       "    </tr>\n",
       "  </tbody>\n",
       "</table>\n",
       "</div>"
      ],
      "text/plain": [
       "   Pilpres 2024     Type                                           Mentions  \\\n",
       "0         36600       rt  RT @bachrum_achmadi: Sblm Ganjar resmi capres ...   \n",
       "1         63886       rt  RT @P3n99u94t: ANIES BASWEDAN CAPRES TERLENGKA...   \n",
       "2         40994       rt  RT @Anak__Ogi: Buat @Pak_JK pendukung capres N...   \n",
       "3         63245       rt  RT @Chaves1305: Capres @prabowo emang sangat k...   \n",
       "4         64087  mention  Para Kiai Besar Dukung Prabowo-Gus Muhaimin di...   \n",
       "\n",
       "               Date    Media Sentiment  \\\n",
       "0  27/05/2023 13:16  Twitter  Positive   \n",
       "1  23/05/2023 16:47  Twitter   Neutral   \n",
       "2  27/05/2023 05:32  Twitter  Positive   \n",
       "3  23/05/2023 17:35  Twitter  Positive   \n",
       "4  23/05/2023 14:31  Twitter  Positive   \n",
       "\n",
       "                                              Author  Followers  Retweeted  \\\n",
       "0                           @krisnugrohoadi (iBoBig)       94.0       39.0   \n",
       "1  @DezzarZo4 (DeZZarZo4 ÃÂÃÂÃÂÃÂ°ÃÂÃÂ...     1057.0       24.0   \n",
       "2                                @Toms32B (Toms 32b)       42.0      218.0   \n",
       "3                               @Chaves1305 (Chaves)      340.0        1.0   \n",
       "4                           @gadotaja (hanyamanusia)      110.0        0.0   \n",
       "\n",
       "   Favourited                                          Mentions1  \\\n",
       "0         0.0  sblm ganjar resmi capres pdip bawaslu bkn main...   \n",
       "1         0.0                   anies baswedan capres terlengkap   \n",
       "2         0.0      buat pendukung capres nasdem demokrat dan pks   \n",
       "3         0.0        capres emang sangat konsisten utk indonesia   \n",
       "4         0.0  para kiai besar dukung prabowogus muhaimin di ...   \n",
       "\n",
       "                                            stemming  \n",
       "0  sblm ganjar resmi capres pdip bawaslu bkn main...  \n",
       "1                      anies baswedan capres lengkap  \n",
       "2         buat dukung capres nasdem demokrat dan pks  \n",
       "3        capres emang sangat konsisten utk indonesia  \n",
       "4  para kiai besar dukung prabowogus muhaimin di ...  "
      ]
     },
     "execution_count": 18,
     "metadata": {},
     "output_type": "execute_result"
    }
   ],
   "source": [
    "# input dataset\n",
    "df = pd.read_csv('Dataset_Manual_stemming18k_baru.csv', encoding='latin1', delimiter=';')\n",
    "df.head()"
   ]
  },
  {
   "cell_type": "code",
   "execution_count": 20,
   "id": "b14d55e8",
   "metadata": {},
   "outputs": [],
   "source": [
    "# input kolom yang akan dipakai\n",
    "texts = df['stemming'].astype(str).tolist()"
   ]
  },
  {
   "cell_type": "code",
   "execution_count": 12,
   "id": "d0ee37fd",
   "metadata": {},
   "outputs": [
    {
     "name": "stderr",
     "output_type": "stream",
     "text": [
      "Some layers from the model checkpoint at nlptown/bert-base-multilingual-uncased-sentiment were not used when initializing TFBertForSequenceClassification: ['dropout_37']\n",
      "- This IS expected if you are initializing TFBertForSequenceClassification from the checkpoint of a model trained on another task or with another architecture (e.g. initializing a BertForSequenceClassification model from a BertForPreTraining model).\n",
      "- This IS NOT expected if you are initializing TFBertForSequenceClassification from the checkpoint of a model that you expect to be exactly identical (initializing a BertForSequenceClassification model from a BertForSequenceClassification model).\n",
      "All the layers of TFBertForSequenceClassification were initialized from the model checkpoint at nlptown/bert-base-multilingual-uncased-sentiment.\n",
      "If your task is similar to the task the model of the checkpoint was trained on, you can already use TFBertForSequenceClassification for predictions without further training.\n"
     ]
    }
   ],
   "source": [
    "# Load model\n",
    "model_name = 'nlptown/bert-base-multilingual-uncased-sentiment'\n",
    "tokenizer = BertTokenizer.from_pretrained(model_name)\n",
    "model = TFBertForSequenceClassification.from_pretrained(model_name)"
   ]
  },
  {
   "cell_type": "code",
   "execution_count": 13,
   "id": "48670e52",
   "metadata": {},
   "outputs": [],
   "source": [
    "# Fungsi prediksi sentimen\n",
    "def predict_sentiment(text):\n",
    "    inputs = tokenizer(text, return_tensors='tf', truncation=True, padding=True, max_length=128)\n",
    "    outputs = model(inputs)\n",
    "    logits = outputs.logits\n",
    "    predictions = tf.nn.softmax(logits, axis=-1)\n",
    "    label = tf.argmax(predictions, axis=1).numpy()[0]\n",
    "    \n",
    "    # Gabungkan label menjadi positif (1) dan negatif (0)\n",
    "    if label in [0, 1]:\n",
    "        return 'negatif'  # Negatif\n",
    "    elif label in [2, 3, 4]:\n",
    "        return 'positif'  # Positif"
   ]
  },
  {
   "cell_type": "code",
   "execution_count": 14,
   "id": "a9e63345",
   "metadata": {},
   "outputs": [],
   "source": [
    "# Prediksi sentimen\n",
    "predicted_labels = [predict_sentiment(text) for text in texts]"
   ]
  },
  {
   "cell_type": "code",
   "execution_count": 15,
   "id": "ff33e3b1",
   "metadata": {},
   "outputs": [],
   "source": [
    "# menambahkan hasil prediksi ke dataset\n",
    "df['label'] = predicted_labels"
   ]
  },
  {
   "cell_type": "code",
   "execution_count": 16,
   "id": "a899ef11",
   "metadata": {},
   "outputs": [],
   "source": [
    "# simpan dataset baru\n",
    "labeled_dataset_path = 'labelterbaruu_dataset.csv'\n",
    "df.to_csv(labeled_dataset_path, index=False)"
   ]
  },
  {
   "cell_type": "code",
   "execution_count": null,
   "id": "c04c5ddf",
   "metadata": {},
   "outputs": [],
   "source": []
  }
 ],
 "metadata": {
  "kernelspec": {
   "display_name": "Python 3 (ipykernel)",
   "language": "python",
   "name": "python3"
  },
  "language_info": {
   "codemirror_mode": {
    "name": "ipython",
    "version": 3
   },
   "file_extension": ".py",
   "mimetype": "text/x-python",
   "name": "python",
   "nbconvert_exporter": "python",
   "pygments_lexer": "ipython3",
   "version": "3.11.7"
  }
 },
 "nbformat": 4,
 "nbformat_minor": 5
}
